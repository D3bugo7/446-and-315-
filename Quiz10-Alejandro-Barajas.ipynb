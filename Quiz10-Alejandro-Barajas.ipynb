{
 "cells": [
  {
   "cell_type": "code",
   "execution_count": 3,
   "id": "1176e282-330b-455f-8fd6-65d4d6bf1cca",
   "metadata": {},
   "outputs": [],
   "source": [
    "import scipy.stats as sp\n",
    "n = 10\n",
    "p = 0.95"
   ]
  },
  {
   "cell_type": "code",
   "execution_count": 4,
   "id": "aef4c383-6f0b-4712-9f9f-12394426418a",
   "metadata": {},
   "outputs": [
    {
     "data": {
      "text/plain": [
       "np.float64(0.5987369392383787)"
      ]
     },
     "execution_count": 4,
     "metadata": {},
     "output_type": "execute_result"
    }
   ],
   "source": [
    "prob = sp.binom.pmf(n, n, p)\n",
    "prob"
   ]
  },
  {
   "cell_type": "code",
   "execution_count": 5,
   "id": "9504d458-10d5-4013-88cc-11a78beb5119",
   "metadata": {},
   "outputs": [
    {
     "data": {
      "text/plain": [
       "np.float64(0.08613835589931651)"
      ]
     },
     "execution_count": 5,
     "metadata": {},
     "output_type": "execute_result"
    }
   ],
   "source": [
    "prob8_free = stats.binom.cdf(8, n, p)\n",
    "prob8_free"
   ]
  },
  {
   "cell_type": "code",
   "execution_count": null,
   "id": "d45184dd-e1b2-41ba-9ec3-ed99f10c05ff",
   "metadata": {},
   "outputs": [],
   "source": []
  }
 ],
 "metadata": {
  "kernelspec": {
   "display_name": "Python 3 (ipykernel)",
   "language": "python",
   "name": "python3"
  },
  "language_info": {
   "codemirror_mode": {
    "name": "ipython",
    "version": 3
   },
   "file_extension": ".py",
   "mimetype": "text/x-python",
   "name": "python",
   "nbconvert_exporter": "python",
   "pygments_lexer": "ipython3",
   "version": "3.12.3"
  }
 },
 "nbformat": 4,
 "nbformat_minor": 5
}
